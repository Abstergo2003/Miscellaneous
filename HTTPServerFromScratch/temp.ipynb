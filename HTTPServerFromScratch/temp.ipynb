{
 "cells": [
  {
   "cell_type": "code",
   "execution_count": 1,
   "metadata": {},
   "outputs": [],
   "source": [
    "import math "
   ]
  },
  {
   "cell_type": "code",
   "execution_count": 2,
   "metadata": {},
   "outputs": [
    {
     "data": {
      "text/plain": [
       "529.5937111402557"
      ]
     },
     "execution_count": 2,
     "metadata": {},
     "output_type": "execute_result"
    }
   ],
   "source": [
    "ce = 1.5 * (17.04/10)**(0.29)\n",
    "p = 1.25\n",
    "vb0 = 22\n",
    "qb0 = 0.30\n",
    "Cdir = 1\n",
    "Cseas = 1\n",
    "vb = Cdir * Cseas * vb0\n",
    "qb = 1/2 * p * vb**2\n",
    "qp = ce * qb\n",
    "qp"
   ]
  },
  {
   "cell_type": "code",
   "execution_count": 3,
   "metadata": {},
   "outputs": [
    {
     "data": {
      "text/plain": [
       "0.1587"
      ]
     },
     "execution_count": 3,
     "metadata": {},
     "output_type": "execute_result"
    }
   ],
   "source": [
    "0.529 * 0.3"
   ]
  },
  {
   "cell_type": "code",
   "execution_count": 4,
   "metadata": {},
   "outputs": [
    {
     "data": {
      "text/plain": [
       "26.487"
      ]
     },
     "execution_count": 4,
     "metadata": {},
     "output_type": "execute_result"
    }
   ],
   "source": [
    "15 * 9.81 * 0.18"
   ]
  },
  {
   "cell_type": "code",
   "execution_count": 5,
   "metadata": {},
   "outputs": [
    {
     "data": {
      "text/plain": [
       "0.07200000000000001"
      ]
     },
     "execution_count": 5,
     "metadata": {},
     "output_type": "execute_result"
    }
   ],
   "source": [
    "0.08 * 0.180 * 4.2/0.84"
   ]
  },
  {
   "cell_type": "code",
   "execution_count": 6,
   "metadata": {},
   "outputs": [
    {
     "data": {
      "text/plain": [
       "369.90900000000005"
      ]
     },
     "execution_count": 6,
     "metadata": {},
     "output_type": "execute_result"
    }
   ],
   "source": [
    "343.35+26.487+0.072"
   ]
  },
  {
   "cell_type": "code",
   "execution_count": 7,
   "metadata": {},
   "outputs": [
    {
     "data": {
      "text/plain": [
       "0.36190143352768916"
      ]
     },
     "execution_count": 7,
     "metadata": {},
     "output_type": "execute_result"
    }
   ],
   "source": [
    "alpha = 0.610865\n",
    "cosa = math.cos(alpha)\n",
    "sina = math.sin(alpha)\n",
    "gkp = 0.4418 * cosa\n",
    "skp = 0.4666 * cosa**2\n",
    "gkp"
   ]
  },
  {
   "cell_type": "code",
   "execution_count": 8,
   "metadata": {},
   "outputs": [
    {
     "data": {
      "text/plain": [
       "0.25340598337569614"
      ]
     },
     "execution_count": 8,
     "metadata": {},
     "output_type": "execute_result"
    }
   ],
   "source": [
    "gkr = 0.4418 * sina\n",
    "skr = 0.4666 * cosa * sina\n",
    "gkr"
   ]
  },
  {
   "cell_type": "code",
   "execution_count": 9,
   "metadata": {},
   "outputs": [
    {
     "data": {
      "text/plain": [
       "0.30333205259235696"
      ]
     },
     "execution_count": 9,
     "metadata": {},
     "output_type": "execute_result"
    }
   ],
   "source": [
    "skpp = 0.4666 * cosa\n",
    "wkpfg = 0.529 * cosa\n",
    "wkph = 0.3703 * cosa\n",
    "wkph"
   ]
  },
  {
   "cell_type": "code",
   "execution_count": 10,
   "metadata": {},
   "outputs": [
    {
     "data": {
      "text/plain": [
       "0.21239528212770548"
      ]
     },
     "execution_count": 10,
     "metadata": {},
     "output_type": "execute_result"
    }
   ],
   "source": [
    "wkppfg =  0.529 * sina\n",
    "wkpph = 0.3703 * sina\n",
    "wkpph"
   ]
  },
  {
   "cell_type": "code",
   "execution_count": 13,
   "metadata": {},
   "outputs": [
    {
     "data": {
      "text/plain": [
       "20773.433617080955"
      ]
     },
     "execution_count": 13,
     "metadata": {},
     "output_type": "execute_result"
    }
   ],
   "source": [
    "fuk = 500\n",
    "d = 16\n",
    "t1 = 175\n",
    "t2 = 175\n",
    "p = 290\n",
    "N = 160\n",
    "kmod = 0.55\n",
    "ym = 1.3\n",
    "MyRk = 0.3 * fuk * d**(2.6)\n",
    "fh0k = 0.082*(1-0.01*d)*p\n",
    "fh1k = fh0k\n",
    "fh2k = fh0k\n",
    "beta = 1\n",
    "row1 = fh1k * t1 * d\n",
    "row2 = 0.5 * fh2k * t2 * d\n",
    "row3 = 1.05 * (fh1k * t1 * d / (2 + beta)) * ((2 * beta * (1+ beta) + 4* beta * (2 + beta) * MyRk / fh1k / d / t1**2)**(1/2) - beta)\n",
    "row4 = 1.15 * (2 * beta / (1 + beta))**(1/2) * (2 * MyRk * fh1k * d)**(1/2)\n",
    "FvRk = min(row1, row2, row3, row4)\n",
    "FvRd = kmod * FvRk / ym / 1000\n",
    "n = 6\n",
    "ntot = n / 3.94 * N / (4*FvRd)\n",
    "ntot = round(ntot)\n",
    "nc = 4\n",
    "a1 = 5*d\n",
    "row5 = n**(0.9) * (a1 / 13 / d)**(1/4)\n",
    "nef = min(n, row5)\n",
    "Ntot = nef * 2 * FvRd * nc\n",
    "Wp = N / Ntot\n",
    "ns = max(3, 0.25*ntot)\n",
    "ntot*0.25\n",
    "row3"
   ]
  },
  {
   "cell_type": "code",
   "execution_count": null,
   "metadata": {},
   "outputs": [],
   "source": []
  }
 ],
 "metadata": {
  "kernelspec": {
   "display_name": "Python 3",
   "language": "python",
   "name": "python3"
  },
  "language_info": {
   "codemirror_mode": {
    "name": "ipython",
    "version": 3
   },
   "file_extension": ".py",
   "mimetype": "text/x-python",
   "name": "python",
   "nbconvert_exporter": "python",
   "pygments_lexer": "ipython3",
   "version": "3.10.11"
  }
 },
 "nbformat": 4,
 "nbformat_minor": 2
}
